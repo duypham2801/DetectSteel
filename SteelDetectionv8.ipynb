{
  "cells": [
    {
      "cell_type": "code",
      "execution_count": null,
      "metadata": {
        "id": "7NN8AC9Vp5TW"
      },
      "outputs": [],
      "source": [
        "!pip install ultralytics"
      ]
    },
    {
      "cell_type": "code",
      "source": [
        "!pip install pyvirtualcam\n",
        "!pip install opencv-python-headless\n"
      ],
      "metadata": {
        "id": "Y6nkIQ4mbBTX"
      },
      "execution_count": null,
      "outputs": []
    },
    {
      "cell_type": "code",
      "source": [
        "!pip install supervision"
      ],
      "metadata": {
        "id": "ElhISB-OM5YK"
      },
      "execution_count": null,
      "outputs": []
    },
    {
      "cell_type": "code",
      "source": [
        "!pip install --upgrade opencv-python"
      ],
      "metadata": {
        "id": "62hWQwr-n2Nj"
      },
      "execution_count": null,
      "outputs": []
    },
    {
      "cell_type": "code",
      "execution_count": null,
      "metadata": {
        "id": "Nh9sowQTqI04"
      },
      "outputs": [],
      "source": [
        "# download pretrain model Yolov8s\n",
        "!wget https://github.com/ultralytics/assets/releases/download/v0.0.0/yolov8s.pt"
      ]
    },
    {
      "cell_type": "markdown",
      "metadata": {
        "id": "L9-oTCLvqdFz"
      },
      "source": [
        "Train with custom data"
      ]
    },
    {
      "cell_type": "code",
      "execution_count": null,
      "metadata": {
        "id": "Sh3t6UvjqZQ6",
        "colab": {
          "base_uri": "https://localhost:8080/"
        },
        "outputId": "4ab950cc-b3e2-4357-e6f4-608034e3f378"
      },
      "outputs": [
        {
          "output_type": "stream",
          "name": "stdout",
          "text": [
            "Mounted at /content/drive\n"
          ]
        }
      ],
      "source": [
        "from google.colab import drive\n",
        "drive.mount('/content/drive')"
      ]
    },
    {
      "cell_type": "code",
      "execution_count": null,
      "metadata": {
        "id": "h1TsJ2syqh6Z"
      },
      "outputs": [],
      "source": [
        "#Create training yaml file\n",
        "%cd /content/drive/MyDrive\n",
        "!rm data_N18/dataset.yaml #neu co file thi xoa\n",
        "!echo 'train: /content/drive/MyDrive/data_N18/data' >> data_N18/dataset.yaml\n",
        "!echo 'val: /content/drive/MyDrive/data_N18/data' >> data_N18/dataset.yaml\n",
        "!echo 'nc: 1' >> data_N18/dataset.yaml #number of class\n",
        "!echo \"names: ['thep']\" >> data_N18/dataset.yaml #class name"
      ]
    },
    {
      "cell_type": "code",
      "execution_count": null,
      "metadata": {
        "id": "B-iGRGkZrcmD"
      },
      "outputs": [],
      "source": [
        "#chuyen de ko luu folder train vao drive\n",
        "%cd /content/drive/MyDrive/data_N18"
      ]
    },
    {
      "cell_type": "code",
      "execution_count": null,
      "metadata": {
        "id": "zNf1Zv6ird3Z"
      },
      "outputs": [],
      "source": [
        "#Train voi CLI\n",
        "!yolo task=detect mode=train model=/content/drive/MyDrive/data_N18/runs/detect/train2/weights/best.pt data=/content/drive/MyDrive/data_N18/dataset.yaml epochs=10 imgsz=640"
      ]
    },
    {
      "cell_type": "code",
      "execution_count": null,
      "metadata": {
        "colab": {
          "base_uri": "https://localhost:8080/"
        },
        "id": "dnFgcqrezjit",
        "outputId": "c2f2be5b-e0dc-478f-b240-acae364344fa"
      },
      "outputs": [
        {
          "output_type": "stream",
          "name": "stdout",
          "text": [
            "Ultralytics YOLOv8.0.117 🚀 Python-3.10.12 torch-2.0.1+cu118 CUDA:0 (Tesla T4, 15102MiB)\n",
            "Model summary (fused): 268 layers, 68124531 parameters, 0 gradients\n",
            "\n",
            "image 1/1 /content/drive/MyDrive/CountingSteel/ĐứcDuy_dataset/1147321477.jpg: 448x640 119 theps, 63.7ms\n",
            "Speed: 12.5ms preprocess, 63.7ms inference, 34.5ms postprocess per image at shape (1, 3, 640, 640)\n",
            "Results saved to \u001b[1mruns/detect/predict\u001b[0m\n"
          ]
        }
      ],
      "source": [
        "#Detect thu voi weights moi train\n",
        "!yolo task=detect mode=predict model=\"/content/drive/MyDrive/CountingSteel/best.pt\" source=\"/content/drive/MyDrive/CountingSteel/ĐứcDuy_dataset/1147321477.jpg\""
      ]
    },
    {
      "cell_type": "code",
      "source": [
        "# Predect and save prediction as a text file\n",
        "# Read the image and perform object detection on it\n",
        "from ultralytics import YOLO\n",
        "model = YOLO(\"/content/drive/MyDrive/CountingSteel/best.pt\")\n",
        "image_path = \"/content/drive/MyDrive/CountingSteel/ĐứcDuy_dataset/1e.jpg\"\n",
        "predictions = model.predict(image_path, save_txt=None)\n",
        "\n",
        "# Save the predicted text file to disk\n",
        "with open(\"/content/drive/MyDrive/CountingSteel/ĐứcDuy_dataset/1e.txt\", '+w') as file:\n",
        "      for idx, prediction in enumerate(predictions[0].boxes.xywhn): # change final attribute to desired box format\n",
        "          cls = int(predictions[0].boxes.cls[idx].item())\n",
        "          # Write line to file in YOLO label format : cls x y w h\n",
        "          file.write(f\"{cls} {prediction[0].item()} {prediction[1].item()} {prediction[2].item()} {prediction[3].item()}\\n\")"
      ],
      "metadata": {
        "colab": {
          "base_uri": "https://localhost:8080/"
        },
        "id": "HesPteHR0D1Q",
        "outputId": "bdfe53b9-34e9-42a4-f148-524f79d5be13"
      },
      "execution_count": null,
      "outputs": [
        {
          "output_type": "stream",
          "name": "stderr",
          "text": [
            "\n",
            "image 1/1 /content/drive/MyDrive/CountingSteel/ĐứcDuy_dataset/1e.jpg: 448x640 55 theps, 75.0ms\n",
            "Speed: 11.9ms preprocess, 75.0ms inference, 34.7ms postprocess per image at shape (1, 3, 640, 640)\n"
          ]
        }
      ]
    },
    {
      "cell_type": "code",
      "source": [
        "import cv2\n",
        "from ultralytics import YOLO\n",
        "from google.colab.patches import cv2_imshow\n",
        "\n",
        "# Load pre-trained YOLO model\n",
        "model = YOLO(\"/content/drive/MyDrive/CountingSteel/best.pt\")\n",
        "\n",
        "# Open video file\n",
        "video_path = \"/content/drive/MyDrive/CountingSteel/istockphoto-515492110-640_adpp_is.mp4\"\n",
        "cap = cv2.VideoCapture(video_path)\n",
        "\n",
        "# Define output video writer\n",
        "output_path = \"/content/drive/MyDrive/CountingSteel/istockphoto-515492110-640_adpp_is.mp4\"\n",
        "fourcc = cv2.VideoWriter_fourcc(*'mp4v')\n",
        "fps = cap.get(cv2.CAP_PROP_FPS)\n",
        "frame_width = int(cap.get(cv2.CAP_PROP_FRAME_WIDTH))\n",
        "frame_height = int(cap.get(cv2.CAP_PROP_FRAME_HEIGHT))\n",
        "out = cv2.VideoWriter(output_path, fourcc, fps, (frame_width, frame_height))\n",
        "\n",
        "# Initialize counter\n",
        "count = 0\n",
        "\n",
        "# Process video frames\n",
        "while cap.isOpened():\n",
        "    ret, frame = cap.read()\n",
        "    if not ret:\n",
        "        break\n",
        "\n",
        "    # Perform object detection on the frame\n",
        "    predictions = model.predict(frame, save_txt=None)\n",
        "\n",
        "    for idx, prediction in enumerate(predictions[0].boxes.xywhn):\n",
        "        cls = int(predictions[0].boxes.cls[idx].item())\n",
        "        if cls == 0:\n",
        "            count += 1\n",
        "\n",
        "    # Draw count on frame\n",
        "    cv2.putText(frame, f\"Count: {count}\", (10, 30), cv2.FONT_HERSHEY_SIMPLEX, 1, (0, 0, 255), 2)\n",
        "\n",
        "    # Write frame to output video\n",
        "    out.write(frame)\n",
        "\n",
        "    # Display the resulting frame (optional)\n",
        "    cv2_imshow(frame)\n",
        "    if cv2.waitKey(1) & 0xFF == ord('q'):\n",
        "        break\n",
        "\n",
        "# Release video capture and writer\n",
        "cap.release()\n",
        "out.release()\n",
        "\n",
        "# Destroy all windows\n",
        "cv2.destroyAllWindows()\n",
        "\n",
        "print(f\"Tổng số lượng thanh thép: {count}\")\n"
      ],
      "metadata": {
        "id": "FuyO8OURpVFq"
      },
      "execution_count": null,
      "outputs": []
    },
    {
      "cell_type": "code",
      "source": [
        "from ultralytics import YOLO\n",
        "\n",
        "model = YOLO(\"/content/drive/MyDrive/CountingSteel/best.pt\")\n",
        "image_path = \"/content/drive/MyDrive/CountingSteel/ĐứcDuy_dataset/1e.jpg\"\n",
        "predictions = model.predict(image_path, save_txt=None)\n",
        "\n",
        "count = 0\n",
        "for idx, prediction in enumerate(predictions[0].boxes.xywhn):\n",
        "    cls = int(predictions[0].boxes.cls[idx].item())\n",
        "    if cls == 0:\n",
        "        count += 1\n",
        "\n",
        "print(\"Tổng số lượng thanh thép: {count}\")"
      ],
      "metadata": {
        "colab": {
          "base_uri": "https://localhost:8080/"
        },
        "id": "CtV3UzZYplLj",
        "outputId": "685de167-c59e-4a11-b8af-a95f8d9f4251"
      },
      "execution_count": null,
      "outputs": [
        {
          "output_type": "stream",
          "name": "stderr",
          "text": [
            "\n",
            "image 1/1 /content/drive/MyDrive/CountingSteel/ĐứcDuy_dataset/1e.jpg: 448x640 55 theps, 74.6ms\n",
            "Speed: 11.7ms preprocess, 74.6ms inference, 34.2ms postprocess per image at shape (1, 3, 640, 640)\n"
          ]
        },
        {
          "output_type": "stream",
          "name": "stdout",
          "text": [
            "Tổng số lượng thanh thép: {count}\n"
          ]
        }
      ]
    }
  ],
  "metadata": {
    "accelerator": "GPU",
    "colab": {
      "provenance": []
    },
    "kernelspec": {
      "display_name": "Python 3",
      "name": "python3"
    },
    "language_info": {
      "name": "python"
    }
  },
  "nbformat": 4,
  "nbformat_minor": 0
}